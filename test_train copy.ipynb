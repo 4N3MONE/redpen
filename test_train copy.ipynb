{
 "cells": [
  {
   "cell_type": "code",
   "execution_count": 1,
   "metadata": {},
   "outputs": [],
   "source": [
    "import numpy as np # linear algebra\n",
    "import pandas as pd # data processing, CSV file I/O (e.g. pd.read_csv)\n",
    "import warnings\n",
    "import logging\n",
    "import os\n",
    "import shutil\n",
    "import json\n",
    "import transformers\n",
    "from transformers import AutoModel, AutoTokenizer, AutoConfig, AutoModelForMaskedLM\n",
    "from transformers import DataCollatorWithPadding\n",
    "from datasets import Dataset,load_dataset, load_from_disk\n",
    "from transformers import TrainingArguments, Trainer\n",
    "from datasets import load_metric, disable_progress_bar\n",
    "from sklearn.metrics import mean_squared_error\n",
    "from datasets import load_dataset\n",
    "import torch"
   ]
  },
  {
   "cell_type": "code",
   "execution_count": 48,
   "metadata": {},
   "outputs": [],
   "source": [
    "import os\n",
    "os.environ['CUDA_LAUNCH_BLOCKING'] = \"1\""
   ]
  },
  {
   "cell_type": "code",
   "execution_count": 2,
   "metadata": {},
   "outputs": [],
   "source": [
    "DATA_DIR = './data/'"
   ]
  },
  {
   "cell_type": "code",
   "execution_count": 16,
   "metadata": {},
   "outputs": [],
   "source": [
    "ability = 'completeness'"
   ]
  },
  {
   "cell_type": "code",
   "execution_count": 17,
   "metadata": {},
   "outputs": [
    {
     "name": "stderr",
     "output_type": "stream",
     "text": [
      "Found cached dataset json (/home/work/.cache/huggingface/datasets/json/default-c0bf04b7476fff20/0.0.0/e347ab1c932092252e717ff3f949105a4dd28b27e842dd53157d2f72e276c2e4)\n"
     ]
    },
    {
     "data": {
      "application/vnd.jupyter.widget-view+json": {
       "model_id": "25df946b625c49eca608a5ad3975cc50",
       "version_major": 2,
       "version_minor": 0
      },
      "text/plain": [
       "  0%|          | 0/2 [00:00<?, ?it/s]"
      ]
     },
     "metadata": {},
     "output_type": "display_data"
    }
   ],
   "source": [
    "# with open(DATA_DIR+'train/'+CFG.ability+'_train.json', \"r\") as f:    \n",
    "#     data_train = json.load(f)\n",
    "# with open(DATA_DIR+'test/'+CFG.ability+'_test.json', \"r\") as f:    \n",
    "#     data_test = json.load(f)\n",
    "\n",
    "data = load_dataset('json',data_files={'train':DATA_DIR+'train/'+ability+'_train.json','test':DATA_DIR+'test/'+ability+'_test.json'})\n",
    "#test = load_dataset('json',data_files=DATA_DIR+'test/'+CFG.ability+'_test.json')"
   ]
  },
  {
   "cell_type": "code",
   "execution_count": 18,
   "metadata": {},
   "outputs": [
    {
     "name": "stderr",
     "output_type": "stream",
     "text": [
      "Loading cached shuffled indices for dataset at /home/work/.cache/huggingface/datasets/json/default-c0bf04b7476fff20/0.0.0/e347ab1c932092252e717ff3f949105a4dd28b27e842dd53157d2f72e276c2e4/cache-d0ba2f994ae91126.arrow\n",
      "Loading cached shuffled indices for dataset at /home/work/.cache/huggingface/datasets/json/default-c0bf04b7476fff20/0.0.0/e347ab1c932092252e717ff3f949105a4dd28b27e842dd53157d2f72e276c2e4/cache-0aec500ee8ba0c81.arrow\n"
     ]
    }
   ],
   "source": [
    "train = data['train'].shuffle(seed=42)\n",
    "test = data['test'].shuffle(seed=42)"
   ]
  },
  {
   "cell_type": "code",
   "execution_count": 19,
   "metadata": {},
   "outputs": [],
   "source": [
    "for d in test:\n",
    "    if d['completeness']==0:\n",
    "        print('!')"
   ]
  },
  {
   "cell_type": "code",
   "execution_count": 151,
   "metadata": {},
   "outputs": [
    {
     "data": {
      "text/plain": [
       "{'grammar': 5.0,\n",
       " 'question': 'Premise: \"yeah i can imagine it wasn\\'t like that when i first bought my house uh this gentleman that i was talking to when i did buy my house told me that\\'s what happened to him\" If this premise is true, what does that tell us about whether it entails the hypothesis \"That happened to me, too.\"?',\n",
       " 'text': 'Premise: \"yeah i can imagine it wasn\\'t like that when i first bought my house uh this gentleman that i was talking to when i did buy my house told me that\\'s what happened to him\" If this premise is true, what does that tell us about whether it entails the hypothesis \"That happened to me, too.\"? [SEP] If the premise is true and the person was told by a gentleman that the described situation happened to him, it suggests that there is a possibility that the same thing could have happened to the speaker as well. However, it does not conclusively prove or entail that the same thing actually did happen to the speaker. Rather, it implies that the speaker\\'s situation might be similar to the gentleman\\'s based on the information they received.',\n",
       " 'response': \"If the premise is true and the person was told by a gentleman that the described situation happened to him, it suggests that there is a possibility that the same thing could have happened to the speaker as well. However, it does not conclusively prove or entail that the same thing actually did happen to the speaker. Rather, it implies that the speaker's situation might be similar to the gentleman's based on the information they received.\"}"
      ]
     },
     "execution_count": 151,
     "metadata": {},
     "output_type": "execute_result"
    }
   ],
   "source": [
    "train[0]"
   ]
  },
  {
   "cell_type": "code",
   "execution_count": 152,
   "metadata": {},
   "outputs": [],
   "source": [
    "def score_to_word(score):\n",
    "    if score>4:\n",
    "        return \"excellent\"\n",
    "    elif score>3:\n",
    "        return \"good\"\n",
    "    elif score>2:\n",
    "        return \"average\"\n",
    "    elif score>1:\n",
    "        return \"bad\"\n",
    "    elif score>0:\n",
    "        return \"terrible\"\n",
    "def prompt_tokenize(example):\n",
    "    score_word = score_to_word(example[ability])\n",
    "    prompted_text = f\"Qusetion : {example['question']} [SEP] Response : {example['response']} [SEP] Based on this response, the {ability} level of the response is [MASK].\"\n",
    "    #return tokenizer(prompted_text, return_tensors='pt',padding=True,truncation=True)\n",
    "    example['prompted_text'] = prompted_text\n",
    "    example['label'] = score_word\n",
    "    return example\n",
    "\n"
   ]
  },
  {
   "cell_type": "code",
   "execution_count": 153,
   "metadata": {},
   "outputs": [
    {
     "name": "stderr",
     "output_type": "stream",
     "text": [
      "Loading cached processed dataset at /home/work/.cache/huggingface/datasets/json/default-2edb139edbd8ead8/0.0.0/e347ab1c932092252e717ff3f949105a4dd28b27e842dd53157d2f72e276c2e4/cache-0e5109515e394150.arrow\n"
     ]
    },
    {
     "data": {
      "application/vnd.jupyter.widget-view+json": {
       "model_id": "77155277e4424d11aacddb870723e8a6",
       "version_major": 2,
       "version_minor": 0
      },
      "text/plain": [
       "Map:   0%|          | 0/2727 [00:00<?, ? examples/s]"
      ]
     },
     "metadata": {},
     "output_type": "display_data"
    }
   ],
   "source": [
    "# train_encoding = tokenizer(\n",
    "#     train['text'],\n",
    "#     return_tensors='pt',\n",
    "#     padding=True,\n",
    "#     truncation=True\n",
    "# )\n",
    "# test_encoding = tokenizer(\n",
    "#     test['text'],\n",
    "#     return_tensors='pt',\n",
    "#     padding=True,\n",
    "#     truncation=True\n",
    "# )\n",
    "\n",
    "train_prompted = train.map(prompt_tokenize)\n",
    "\n",
    "test_prompted = test.map(prompt_tokenize)"
   ]
  },
  {
   "cell_type": "code",
   "execution_count": 154,
   "metadata": {},
   "outputs": [
    {
     "data": {
      "application/vnd.jupyter.widget-view+json": {
       "model_id": "66d9b008096b4bbd89c90574ce6be5b5",
       "version_major": 2,
       "version_minor": 0
      },
      "text/plain": [
       "Creating json from Arrow format:   0%|          | 0/25 [00:00<?, ?ba/s]"
      ]
     },
     "metadata": {},
     "output_type": "display_data"
    },
    {
     "data": {
      "text/plain": [
       "49634614"
      ]
     },
     "execution_count": 154,
     "metadata": {},
     "output_type": "execute_result"
    }
   ],
   "source": [
    "train_prompted.to_json(f'/home/work/deeptext/yys/redpen/data/train/{ability}_prompt_train.json')"
   ]
  },
  {
   "cell_type": "code",
   "execution_count": 155,
   "metadata": {},
   "outputs": [
    {
     "data": {
      "application/vnd.jupyter.widget-view+json": {
       "model_id": "07a808dc90c448768806518c9495bd08",
       "version_major": 2,
       "version_minor": 0
      },
      "text/plain": [
       "Creating json from Arrow format:   0%|          | 0/3 [00:00<?, ?ba/s]"
      ]
     },
     "metadata": {},
     "output_type": "display_data"
    },
    {
     "data": {
      "text/plain": [
       "5501332"
      ]
     },
     "execution_count": 155,
     "metadata": {},
     "output_type": "execute_result"
    }
   ],
   "source": [
    "test_prompted.to_json(f'/home/work/deeptext/yys/redpen/data/test/{ability}_prompt_test.json')"
   ]
  },
  {
   "cell_type": "code",
   "execution_count": 156,
   "metadata": {},
   "outputs": [
    {
     "data": {
      "text/plain": [
       "{'grammar': 5.0,\n",
       " 'question': 'Premise: \"yeah i can imagine it wasn\\'t like that when i first bought my house uh this gentleman that i was talking to when i did buy my house told me that\\'s what happened to him\" If this premise is true, what does that tell us about whether it entails the hypothesis \"That happened to me, too.\"?',\n",
       " 'text': 'Premise: \"yeah i can imagine it wasn\\'t like that when i first bought my house uh this gentleman that i was talking to when i did buy my house told me that\\'s what happened to him\" If this premise is true, what does that tell us about whether it entails the hypothesis \"That happened to me, too.\"? [SEP] If the premise is true and the person was told by a gentleman that the described situation happened to him, it suggests that there is a possibility that the same thing could have happened to the speaker as well. However, it does not conclusively prove or entail that the same thing actually did happen to the speaker. Rather, it implies that the speaker\\'s situation might be similar to the gentleman\\'s based on the information they received.',\n",
       " 'response': \"If the premise is true and the person was told by a gentleman that the described situation happened to him, it suggests that there is a possibility that the same thing could have happened to the speaker as well. However, it does not conclusively prove or entail that the same thing actually did happen to the speaker. Rather, it implies that the speaker's situation might be similar to the gentleman's based on the information they received.\",\n",
       " 'prompted_text': 'Qusetion : Premise: \"yeah i can imagine it wasn\\'t like that when i first bought my house uh this gentleman that i was talking to when i did buy my house told me that\\'s what happened to him\" If this premise is true, what does that tell us about whether it entails the hypothesis \"That happened to me, too.\"? [SEP] Response : If the premise is true and the person was told by a gentleman that the described situation happened to him, it suggests that there is a possibility that the same thing could have happened to the speaker as well. However, it does not conclusively prove or entail that the same thing actually did happen to the speaker. Rather, it implies that the speaker\\'s situation might be similar to the gentleman\\'s based on the information they received. [SEP] Based on this response, the grammar level of the response is [MASK].',\n",
       " 'label': 'excellent'}"
      ]
     },
     "execution_count": 156,
     "metadata": {},
     "output_type": "execute_result"
    }
   ],
   "source": [
    "train_prompted[0]"
   ]
  },
  {
   "cell_type": "code",
   "execution_count": 13,
   "metadata": {},
   "outputs": [
    {
     "name": "stderr",
     "output_type": "stream",
     "text": [
      "Asking to truncate to max_length but no maximum length is provided and the model has no predefined maximum length. Default to no truncation.\n"
     ]
    }
   ],
   "source": [
    "train_encoding = tokenizer(\n",
    "    train_prompted['prompted_text'],\n",
    "    return_tensors='pt',\n",
    "    padding=True,\n",
    "    truncation=True\n",
    ")\n",
    "test_encoding = tokenizer(\n",
    "    test_prompted['prompted_text'],\n",
    "    return_tensors='pt',\n",
    "    padding=True,\n",
    "    truncation=True\n",
    ")"
   ]
  },
  {
   "cell_type": "code",
   "execution_count": 14,
   "metadata": {},
   "outputs": [
    {
     "data": {
      "text/plain": [
       "'[CLS] Qusetion : Premise: \"yeah i can imagine it wasn\\'t like that when i first bought my house uh this gentleman that i was talking to when i did buy my house told me that\\'s what happened to him\" If this premise is true, what does that tell us about whether it entails the hypothesis \"That happened to me, too.\"?[SEP] Response : If the premise is true and the person was told by a gentleman that the described situation happened to him, it suggests that there is a possibility that the same thing could have happened to the speaker as well. However, it does not conclusively prove or entail that the same thing actually did happen to the speaker. Rather, it implies that the speaker\\'s situation might be similar to the gentleman\\'s based on the information they received.[SEP] Based on this response, the readability level of the answer is[MASK].[SEP][PAD][PAD][PAD][PAD][PAD][PAD][PAD][PAD][PAD][PAD][PAD][PAD][PAD][PAD][PAD][PAD][PAD][PAD][PAD][PAD][PAD][PAD][PAD][PAD][PAD][PAD][PAD][PAD][PAD][PAD][PAD][PAD][PAD][PAD][PAD][PAD][PAD][PAD][PAD][PAD][PAD][PAD][PAD][PAD][PAD][PAD][PAD][PAD][PAD][PAD][PAD][PAD][PAD][PAD][PAD][PAD][PAD][PAD][PAD][PAD][PAD][PAD][PAD][PAD][PAD][PAD][PAD][PAD][PAD][PAD][PAD][PAD][PAD][PAD][PAD][PAD][PAD][PAD][PAD][PAD][PAD][PAD][PAD][PAD][PAD][PAD][PAD][PAD][PAD][PAD][PAD][PAD][PAD][PAD][PAD][PAD][PAD][PAD][PAD][PAD][PAD][PAD][PAD][PAD][PAD][PAD][PAD][PAD][PAD][PAD][PAD][PAD][PAD][PAD][PAD][PAD][PAD][PAD][PAD][PAD][PAD][PAD][PAD][PAD][PAD][PAD][PAD]'"
      ]
     },
     "execution_count": 14,
     "metadata": {},
     "output_type": "execute_result"
    }
   ],
   "source": [
    "tokenizer.decode(train_encoding['input_ids'][0])"
   ]
  },
  {
   "cell_type": "code",
   "execution_count": 15,
   "metadata": {},
   "outputs": [],
   "source": [
    "import torch\n",
    "from torch.utils.data import Dataset\n",
    "\n",
    "\n",
    "class PromptDataset(Dataset):\n",
    "    def __init__(self, encodings):\n",
    "        self.encoding = encodings\n",
    "\n",
    "    def __getitem__(self, idx):\n",
    "        data = {key: val[idx] for key, val in self.encoding.items()}\n",
    "        \n",
    "\n",
    "        return data\n",
    "\n",
    "    def __len__(self):\n",
    "        return len(self.encoding)"
   ]
  },
  {
   "cell_type": "code",
   "execution_count": 29,
   "metadata": {},
   "outputs": [],
   "source": [
    "train_set = PromptDataset(train_encoding)\n",
    "test_set = PromptDataset(test_encoding)"
   ]
  },
  {
   "cell_type": "code",
   "execution_count": null,
   "metadata": {},
   "outputs": [
    {
     "data": {
      "text/plain": [
       "device(type='cuda')"
      ]
     },
     "execution_count": 25,
     "metadata": {},
     "output_type": "execute_result"
    }
   ],
   "source": [
    "device = torch.device(\"cuda\" if torch.cuda.is_available() else 'cpu')\n",
    "#device = torch.device('cpu')\n",
    "device"
   ]
  },
  {
   "cell_type": "code",
   "execution_count": 30,
   "metadata": {},
   "outputs": [],
   "source": [
    "from torch.utils.data import DataLoader\n",
    "\n",
    "train_loader = DataLoader(train_set, batch_size=32)\n",
    "test_loader = DataLoader(test_set, batch_size=32)"
   ]
  },
  {
   "cell_type": "code",
   "execution_count": null,
   "metadata": {},
   "outputs": [
    {
     "name": "stderr",
     "output_type": "stream",
     "text": [
      "Some weights of DebertaV2ForMaskedLM were not initialized from the model checkpoint at microsoft/deberta-v3-base and are newly initialized: ['cls.predictions.transform.dense.weight', 'cls.predictions.transform.dense.bias', 'cls.predictions.transform.LayerNorm.bias', 'cls.predictions.bias', 'cls.predictions.decoder.bias', 'cls.predictions.transform.LayerNorm.weight']\n",
      "You should probably TRAIN this model on a down-stream task to be able to use it for predictions and inference.\n"
     ]
    }
   ],
   "source": [
    "model = AutoModelForMaskedLM.from_pretrained(MODEL_NAME)"
   ]
  },
  {
   "cell_type": "code",
   "execution_count": null,
   "metadata": {},
   "outputs": [],
   "source": [
    "indexed_tokens = tokenizer.convert_tokens_to_ids(dummy)\n",
    "tokens_tensor = torch.tensor([indexed_tokens])\n"
   ]
  },
  {
   "cell_type": "code",
   "execution_count": 37,
   "metadata": {},
   "outputs": [
    {
     "data": {
      "text/plain": [
       "'Qusetion : What is the version of the following sentence with correct punctuation?  Title Nyt fra Schaeffer   [SEP] Response : The New from Schaeffer  \"New\" should be capitalized.  A:  The proper punctuation would be \"The New From Schaeffer\". The first word is a proper noun, so it needs to be in all caps.   [SEP] Based on this response, the readability level of the answer is [MASK].'"
      ]
     },
     "execution_count": 37,
     "metadata": {},
     "output_type": "execute_result"
    }
   ],
   "source": [
    "train_prompted['prompted_text'][2]"
   ]
  },
  {
   "cell_type": "code",
   "execution_count": 39,
   "metadata": {},
   "outputs": [],
   "source": [
    "dummy = tokenizer(train_prompted['prompted_text'][2], return_tensors='pt')\n",
    "\n",
    "mask_pos = torch.where(dummy['input_ids'] == tokenizer.mask_token_id)[0][0]"
   ]
  },
  {
   "cell_type": "code",
   "execution_count": 41,
   "metadata": {},
   "outputs": [],
   "source": [
    "exc=tokenizer.convert_tokens_to_ids('excellent')\n",
    "good=tokenizer.convert_tokens_to_ids('good')\n",
    "avg= tokenizer.convert_tokens_to_ids('average')\n",
    "poor=tokenizer.convert_tokens_to_ids('poor')\n",
    "terr = tokenizer.convert_tokens_to_ids('terrible')\n",
    "\n",
    "dummy = tokenizer(train_prompted['prompted_text'][2], return_tensors='pt')\n",
    "mask_pos = torch.where(dummy['input_ids']==tokenizer.mask_token_id)[0][0]\n",
    "predictions = model(**dummy)[0]\n",
    "pred=predictions[0, mask_pos][[exc,good,avg,poor,terr]]\n",
    "prob=torch.nn.functional.softmax(pred, dim=0)\n",
    "lossFunc = torch.nn.CrossEntropyLoss()\n",
    "loss=lossFunc(prob.unsqueeze(0), torch.tensor([label]))\n",
    "loss.backward()\n",
    "optimizer.step()"
   ]
  },
  {
   "cell_type": "code",
   "execution_count": 42,
   "metadata": {},
   "outputs": [
    {
     "data": {
      "text/plain": [
       "tensor([0.0011, 0.0193, 0.1602, 0.8177, 0.0018], grad_fn=<SoftmaxBackward0>)"
      ]
     },
     "execution_count": 42,
     "metadata": {},
     "output_type": "execute_result"
    }
   ],
   "source": [
    "prob"
   ]
  },
  {
   "cell_type": "code",
   "execution_count": null,
   "metadata": {},
   "outputs": [],
   "source": [
    "from tqdm.notebook import tqdm\n",
    "from datasets import load_metric\n",
    "\n",
    "def train(epoch, model, dataloader, optimizer, device):\n",
    "    model.to(device)\n",
    "\n",
    "    m1 = load_metric('mse')\n",
    "\n",
    "    for e in range(1, epoch+1):\n",
    "        total_loss = 0.\n",
    "        preds = []\n",
    "        labels = []\n",
    "        progress_bar = tqdm(dataloader)\n",
    "        for data in progress_bar:\n",
    "            #data = {k:v.to(device) for k, v in data.items()}\n",
    "            output = model(**data)\n",
    "            \n",
    "            current_loss = output.loss\n",
    "            total_loss += current_loss.item()  # .item()을 사용하여 스칼라 값을 얻음\n",
    "            \n",
    "            preds += list(output.logits.squeeze().detach().cpu().numpy())\n",
    "            labels += list(data['labels'].detach().cpu().numpy())\n",
    "\n",
    "            optimizer.zero_grad()\n",
    "            current_loss.backward()\n",
    "            optimizer.step()\n",
    "\n",
    "            progress_bar.set_description(f'TRAIN - EPOCH {e} | current-loss: {current_loss:.4f}')\n",
    "        \n",
    "        rmse = m1.compute(predictions=preds, references=labels, squared=False)\n",
    "        avg = total_loss / len(dataloader.dataset)\n",
    "\n",
    "        print('='*64)\n",
    "        print(f\"TRAIN - EPOCH {e} | LOSS: {avg:.4f} RMSE: {rmse}\")\n",
    "        print('='*64)"
   ]
  },
  {
   "cell_type": "code",
   "execution_count": null,
   "metadata": {},
   "outputs": [],
   "source": [
    "from torch.optim import AdamW\n",
    "\n",
    "# model = AutoModelForSequenceClassification.from_pretrained(MODEL_NAME, num_labels=2)\n",
    "optimizer = AdamW(model.parameters(), lr=5e-5)"
   ]
  },
  {
   "cell_type": "code",
   "execution_count": null,
   "metadata": {},
   "outputs": [
    {
     "data": {
      "application/vnd.jupyter.widget-view+json": {
       "model_id": "7ab2ad570f414940952959b1fc27707e",
       "version_major": 2,
       "version_minor": 0
      },
      "text/plain": [
       "TRAIN - EPOCH 1 |:   0%|          | 0/32 [00:00<?, ?it/s]"
      ]
     },
     "metadata": {},
     "output_type": "display_data"
    },
    {
     "name": "stdout",
     "output_type": "stream",
     "text": [
      "================================================================\n",
      "TRAIN - EPOCH 1 | LOSS: 0.0322 RMSE: {'mse': 0.996620854595321}\n",
      "================================================================\n"
     ]
    },
    {
     "data": {
      "application/vnd.jupyter.widget-view+json": {
       "model_id": "cbd097edcec549b2a5f2bca723fedb62",
       "version_major": 2,
       "version_minor": 0
      },
      "text/plain": [
       "TRAIN - EPOCH 2 |:   0%|          | 0/32 [00:00<?, ?it/s]"
      ]
     },
     "metadata": {},
     "output_type": "display_data"
    },
    {
     "name": "stdout",
     "output_type": "stream",
     "text": [
      "================================================================\n",
      "TRAIN - EPOCH 2 | LOSS: 0.0292 RMSE: {'mse': 0.9494141741943081}\n",
      "================================================================\n"
     ]
    },
    {
     "data": {
      "application/vnd.jupyter.widget-view+json": {
       "model_id": "414918278c7a437d8029fbd86783a259",
       "version_major": 2,
       "version_minor": 0
      },
      "text/plain": [
       "TRAIN - EPOCH 3 |:   0%|          | 0/32 [00:00<?, ?it/s]"
      ]
     },
     "metadata": {},
     "output_type": "display_data"
    },
    {
     "name": "stdout",
     "output_type": "stream",
     "text": [
      "================================================================\n",
      "TRAIN - EPOCH 3 | LOSS: 0.0251 RMSE: {'mse': 0.8896607963716799}\n",
      "================================================================\n"
     ]
    },
    {
     "data": {
      "application/vnd.jupyter.widget-view+json": {
       "model_id": "db0615b253ad407ab1edfd210c0468c2",
       "version_major": 2,
       "version_minor": 0
      },
      "text/plain": [
       "TRAIN - EPOCH 4 |:   0%|          | 0/32 [00:00<?, ?it/s]"
      ]
     },
     "metadata": {},
     "output_type": "display_data"
    },
    {
     "name": "stdout",
     "output_type": "stream",
     "text": [
      "================================================================\n",
      "TRAIN - EPOCH 4 | LOSS: 0.0174 RMSE: {'mse': 0.7434175833629258}\n",
      "================================================================\n"
     ]
    },
    {
     "data": {
      "application/vnd.jupyter.widget-view+json": {
       "model_id": "b8010579001842aba46956bfb55cc46e",
       "version_major": 2,
       "version_minor": 0
      },
      "text/plain": [
       "TRAIN - EPOCH 5 |:   0%|          | 0/32 [00:00<?, ?it/s]"
      ]
     },
     "metadata": {},
     "output_type": "display_data"
    },
    {
     "name": "stdout",
     "output_type": "stream",
     "text": [
      "================================================================\n",
      "TRAIN - EPOCH 5 | LOSS: 0.0127 RMSE: {'mse': 0.6357503323154271}\n",
      "================================================================\n"
     ]
    }
   ],
   "source": [
    "train(1, model, train_loader, optimizer, device)\n"
   ]
  },
  {
   "cell_type": "code",
   "execution_count": null,
   "metadata": {},
   "outputs": [],
   "source": [
    "from tqdm.notebook import tqdm\n",
    "from datasets import load_metric\n",
    "\n",
    "def evaluate(model, dataloader, device):\n",
    "    model.to(device)\n",
    "\n",
    "    m1 = load_metric('mse')\n",
    "\n",
    "    total_loss = 0.\n",
    "    preds = []\n",
    "    labels = []\n",
    "    progress_bar = tqdm(dataloader, desc=f'EVAL |')\n",
    "    for data in progress_bar:\n",
    "        data = {k:v.to(device) for k, v in data.items()}\n",
    "        with torch.no_grad():\n",
    "            output = model(**data)\n",
    "        \n",
    "        current_loss = output.loss\n",
    "        total_loss += current_loss.item()  # .item()을 사용하여 스칼라 값을 얻음\n",
    "        \n",
    "        preds += list(output.logits.squeeze().detach().cpu().numpy())\n",
    "        labels += list(data['labels'].detach().cpu().numpy())\n",
    "\n",
    "        progress_bar.set_description(f'EVAL | current-loss: {current_loss:.4f}')\n",
    "    \n",
    "    rmse = m1.compute(predictions=preds, references=labels, squared=False)\n",
    "    avg = total_loss / len(dataloader.dataset)\n",
    "\n",
    "    print('='*64)\n",
    "    print(f\"EVAL | LOSS: {avg:.4f} RMSE: {rmse}\")\n",
    "    print('='*64)"
   ]
  },
  {
   "cell_type": "code",
   "execution_count": null,
   "metadata": {},
   "outputs": [
    {
     "data": {
      "application/vnd.jupyter.widget-view+json": {
       "model_id": "2f6de065e39b473c9468721b664aeeef",
       "version_major": 2,
       "version_minor": 0
      },
      "text/plain": [
       "EVAL |:   0%|          | 0/32 [00:00<?, ?it/s]"
      ]
     },
     "metadata": {},
     "output_type": "display_data"
    },
    {
     "name": "stdout",
     "output_type": "stream",
     "text": [
      "================================================================\n",
      "EVAL | LOSS: 0.0322 RMSE: {'mse': 1.0024117614225598}\n",
      "================================================================\n"
     ]
    }
   ],
   "source": [
    "evaluate(model, test_loader, device)\n"
   ]
  }
 ],
 "metadata": {
  "kernelspec": {
   "display_name": "yys",
   "language": "python",
   "name": "python3"
  },
  "language_info": {
   "codemirror_mode": {
    "name": "ipython",
    "version": 3
   },
   "file_extension": ".py",
   "mimetype": "text/x-python",
   "name": "python",
   "nbconvert_exporter": "python",
   "pygments_lexer": "ipython3",
   "version": "3.9.18"
  },
  "orig_nbformat": 4,
  "vscode": {
   "interpreter": {
    "hash": "b414fc1e9b01ec0e3104513ada18687df2a6952cdc4efdeda01cb7a7dbe427c8"
   }
  }
 },
 "nbformat": 4,
 "nbformat_minor": 2
}
