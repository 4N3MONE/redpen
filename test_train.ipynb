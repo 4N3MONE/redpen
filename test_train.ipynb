{
 "cells": [
  {
   "cell_type": "code",
   "execution_count": 3,
   "metadata": {},
   "outputs": [],
   "source": [
    "import numpy as np # linear algebra\n",
    "import pandas as pd # data processing, CSV file I/O (e.g. pd.read_csv)\n",
    "import warnings\n",
    "import logging\n",
    "import os\n",
    "import shutil\n",
    "import json\n",
    "import transformers\n",
    "from transformers import AutoModel, AutoTokenizer, AutoConfig, AutoModelForSequenceClassification\n",
    "from transformers import DataCollatorWithPadding\n",
    "from datasets import Dataset,load_dataset, load_from_disk\n",
    "from transformers import TrainingArguments, Trainer\n",
    "from datasets import load_metric, disable_progress_bar\n",
    "from sklearn.metrics import mean_squared_error\n",
    "from datasets import load_dataset\n",
    "import torch"
   ]
  },
  {
   "cell_type": "code",
   "execution_count": 4,
   "metadata": {},
   "outputs": [],
   "source": [
    "import os\n",
    "os.environ['CUDA_LAUNCH_BLOCKING'] = \"1\""
   ]
  },
  {
   "cell_type": "code",
   "execution_count": 12,
   "metadata": {},
   "outputs": [],
   "source": [
    "class CFG:\n",
    "    model_name=\"debertav3base\"\n",
    "    learning_rate=1.5e-5\n",
    "    weight_decay=0.02\n",
    "    hidden_dropout_prob= 0.0 # 0.005\n",
    "    attention_probs_dropout_prob=0.0 # 0.005\n",
    "    num_train_epochs=3\n",
    "    n_splits=4\n",
    "    batch_size=12\n",
    "    random_seed=42\n",
    "    save_steps=100\n",
    "    max_length=512\n",
    "    ability = 'readability' #grammar, completeness"
   ]
  },
  {
   "cell_type": "code",
   "execution_count": 10,
   "metadata": {},
   "outputs": [],
   "source": [
    "DATA_DIR = './data/'"
   ]
  },
  {
   "cell_type": "code",
   "execution_count": 13,
   "metadata": {},
   "outputs": [
    {
     "name": "stderr",
     "output_type": "stream",
     "text": [
      "Found cached dataset json (/home/work/.cache/huggingface/datasets/json/default-23aeb5a3fdccffaf/0.0.0/e347ab1c932092252e717ff3f949105a4dd28b27e842dd53157d2f72e276c2e4)\n"
     ]
    },
    {
     "data": {
      "application/vnd.jupyter.widget-view+json": {
       "model_id": "2ab79de511ff4abab01ffb3e3b372569",
       "version_major": 2,
       "version_minor": 0
      },
      "text/plain": [
       "  0%|          | 0/2 [00:00<?, ?it/s]"
      ]
     },
     "metadata": {},
     "output_type": "display_data"
    }
   ],
   "source": [
    "# with open(DATA_DIR+'train/'+CFG.ability+'_train.json', \"r\") as f:    \n",
    "#     data_train = json.load(f)\n",
    "# with open(DATA_DIR+'test/'+CFG.ability+'_test.json', \"r\") as f:    \n",
    "#     data_test = json.load(f)\n",
    "\n",
    "data = load_dataset('json',data_files={'train':DATA_DIR+'train/'+CFG.ability+'_train.json','test':DATA_DIR+'test/'+CFG.ability+'_test.json'})\n",
    "#test = load_dataset('json',data_files=DATA_DIR+'test/'+CFG.ability+'_test.json')"
   ]
  },
  {
   "cell_type": "code",
   "execution_count": 45,
   "metadata": {},
   "outputs": [
    {
     "name": "stderr",
     "output_type": "stream",
     "text": [
      "Loading cached shuffled indices for dataset at /home/work/.cache/huggingface/datasets/json/default-23aeb5a3fdccffaf/0.0.0/e347ab1c932092252e717ff3f949105a4dd28b27e842dd53157d2f72e276c2e4/cache-2327788a30368567.arrow\n",
      "Loading cached shuffled indices for dataset at /home/work/.cache/huggingface/datasets/json/default-23aeb5a3fdccffaf/0.0.0/e347ab1c932092252e717ff3f949105a4dd28b27e842dd53157d2f72e276c2e4/cache-c9401b101a0b2926.arrow\n"
     ]
    }
   ],
   "source": [
    "train = data['train'].shuffle(seed=42).select(range(1000))\n",
    "test = data['test'].shuffle(seed=42).select(range(1000))"
   ]
  },
  {
   "cell_type": "code",
   "execution_count": 8,
   "metadata": {},
   "outputs": [
    {
     "data": {
      "text/plain": [
       "{'text': 'Premise: \"yeah i can imagine it wasn\\'t like that when i first bought my house uh this gentleman that i was talking to when i did buy my house told me that\\'s what happened to him\" If this premise is true, what does that tell us about whether it entails the hypothesis \"That happened to me, too.\"? [SEP] If the premise is true and the person was told by a gentleman that the described situation happened to him, it suggests that there is a possibility that the same thing could have happened to the speaker as well. However, it does not conclusively prove or entail that the same thing actually did happen to the speaker. Rather, it implies that the speaker\\'s situation might be similar to the gentleman\\'s based on the information they received.',\n",
       " 'question': 'Premise: \"yeah i can imagine it wasn\\'t like that when i first bought my house uh this gentleman that i was talking to when i did buy my house told me that\\'s what happened to him\" If this premise is true, what does that tell us about whether it entails the hypothesis \"That happened to me, too.\"?',\n",
       " 'readability': 3.8,\n",
       " 'response': \"If the premise is true and the person was told by a gentleman that the described situation happened to him, it suggests that there is a possibility that the same thing could have happened to the speaker as well. However, it does not conclusively prove or entail that the same thing actually did happen to the speaker. Rather, it implies that the speaker's situation might be similar to the gentleman's based on the information they received.\"}"
      ]
     },
     "execution_count": 8,
     "metadata": {},
     "output_type": "execute_result"
    }
   ],
   "source": [
    "train[0]"
   ]
  },
  {
   "cell_type": "code",
   "execution_count": 15,
   "metadata": {},
   "outputs": [
    {
     "name": "stderr",
     "output_type": "stream",
     "text": [
      "Some weights of DebertaV2ForSequenceClassification were not initialized from the model checkpoint at microsoft/deberta-v3-base and are newly initialized: ['pooler.dense.weight', 'classifier.weight', 'classifier.bias', 'pooler.dense.bias']\n",
      "You should probably TRAIN this model on a down-stream task to be able to use it for predictions and inference.\n",
      "Special tokens have been added in the vocabulary, make sure the associated word embeddings are fine-tuned or trained.\n",
      "/home/work/.local/miniconda3/envs/yys/lib/python3.9/site-packages/transformers/convert_slow_tokenizer.py:470: UserWarning: The sentencepiece tokenizer that you are converting to a fast tokenizer uses the byte fallback option which is not implemented in the fast tokenizers. In practice this means that the fast version of the tokenizer can produce unknown tokens whereas the sentencepiece version would have converted these unknown tokens into a sequence of byte tokens matching the original piece of text.\n",
      "  warnings.warn(\n",
      "Special tokens have been added in the vocabulary, make sure the associated word embeddings are fine-tuned or trained.\n"
     ]
    }
   ],
   "source": [
    "MODEL_NAME = \"microsoft/deberta-v3-base\"\n",
    "\n",
    "model = AutoModelForSequenceClassification.from_pretrained(MODEL_NAME,num_labels=1, ignore_mismatched_sizes=True)\n",
    "tokenizer = AutoTokenizer.from_pretrained(MODEL_NAME)\n",
    "\n"
   ]
  },
  {
   "cell_type": "code",
   "execution_count": 46,
   "metadata": {},
   "outputs": [],
   "source": [
    "train_encoding = tokenizer(\n",
    "    train['text'],\n",
    "    return_tensors='pt',\n",
    "    padding=True,\n",
    "    truncation=True\n",
    ")\n",
    "test_encoding = tokenizer(\n",
    "    test['text'],\n",
    "    return_tensors='pt',\n",
    "    padding=True,\n",
    "    truncation=True\n",
    ")"
   ]
  },
  {
   "cell_type": "code",
   "execution_count": 47,
   "metadata": {},
   "outputs": [],
   "source": [
    "import torch\n",
    "from torch.utils.data import Dataset\n",
    "\n",
    "\n",
    "class ScoreDataset(Dataset):\n",
    "    def __init__(self, encodings, labels):\n",
    "        self.encoding = encodings\n",
    "        self.labels = labels\n",
    "\n",
    "    def __getitem__(self, idx):\n",
    "        data = {key: val[idx] for key, val in self.encoding.items()}\n",
    "        data['labels'] = torch.tensor(self.labels[idx],dtype=torch.float32)\n",
    "\n",
    "        return data\n",
    "\n",
    "    def __len__(self):\n",
    "        return len(self.labels)"
   ]
  },
  {
   "cell_type": "code",
   "execution_count": 48,
   "metadata": {},
   "outputs": [],
   "source": [
    "train_set = ScoreDataset(train_encoding, train['readability'])\n",
    "test_set = ScoreDataset(test_encoding, test['readability'])"
   ]
  },
  {
   "cell_type": "code",
   "execution_count": null,
   "metadata": {},
   "outputs": [],
   "source": [
    "train_set[1]"
   ]
  },
  {
   "cell_type": "code",
   "execution_count": 25,
   "metadata": {},
   "outputs": [
    {
     "data": {
      "text/plain": [
       "device(type='cuda')"
      ]
     },
     "execution_count": 25,
     "metadata": {},
     "output_type": "execute_result"
    }
   ],
   "source": [
    "device = torch.device(\"cuda\" if torch.cuda.is_available() else 'cpu')\n",
    "#device = torch.device('cpu')\n",
    "device"
   ]
  },
  {
   "cell_type": "code",
   "execution_count": 49,
   "metadata": {},
   "outputs": [],
   "source": [
    "from torch.utils.data import DataLoader\n",
    "\n",
    "train_loader = DataLoader(train_set, batch_size=32)\n",
    "test_loader = DataLoader(test_set, batch_size=32)"
   ]
  },
  {
   "cell_type": "code",
   "execution_count": 19,
   "metadata": {},
   "outputs": [
    {
     "name": "stderr",
     "output_type": "stream",
     "text": [
      "Some weights of DebertaV2ForSequenceClassification were not initialized from the model checkpoint at microsoft/deberta-v3-base and are newly initialized: ['pooler.dense.weight', 'classifier.weight', 'classifier.bias', 'pooler.dense.bias']\n",
      "You should probably TRAIN this model on a down-stream task to be able to use it for predictions and inference.\n"
     ]
    }
   ],
   "source": [
    "model = AutoModelForSequenceClassification.from_pretrained(MODEL_NAME, num_labels=1)"
   ]
  },
  {
   "cell_type": "code",
   "execution_count": 21,
   "metadata": {},
   "outputs": [
    {
     "data": {
      "text/plain": [
       "SequenceClassifierOutput(loss=None, logits=tensor([[0.0432]], grad_fn=<AddmmBackward0>), hidden_states=None, attentions=None)"
      ]
     },
     "execution_count": 21,
     "metadata": {},
     "output_type": "execute_result"
    }
   ],
   "source": [
    "dummy = tokenizer(train['text'][0], return_tensors='pt')\n",
    "\n",
    "model(**dummy)"
   ]
  },
  {
   "cell_type": "code",
   "execution_count": 51,
   "metadata": {},
   "outputs": [],
   "source": [
    "from tqdm.notebook import tqdm\n",
    "from datasets import load_metric\n",
    "\n",
    "def train(epoch, model, dataloader, optimizer, device):\n",
    "    model.to(device)\n",
    "\n",
    "    m1 = load_metric('mse')\n",
    "\n",
    "    for e in range(1, epoch+1):\n",
    "        total_loss = 0.\n",
    "        preds = []\n",
    "        labels = []\n",
    "        progress_bar = tqdm(dataloader, desc=f'TRAIN - EPOCH {e} |')\n",
    "        for data in progress_bar:\n",
    "            data = {k:v.to(device) for k, v in data.items()}\n",
    "            output = model(**data)\n",
    "            \n",
    "            current_loss = output.loss\n",
    "            total_loss += current_loss.item()  # .item()을 사용하여 스칼라 값을 얻음\n",
    "            \n",
    "            preds += list(output.logits.squeeze().detach().cpu().numpy())\n",
    "            labels += list(data['labels'].detach().cpu().numpy())\n",
    "\n",
    "            optimizer.zero_grad()\n",
    "            current_loss.backward()\n",
    "            optimizer.step()\n",
    "\n",
    "            progress_bar.set_description(f'TRAIN - EPOCH {e} | current-loss: {current_loss:.4f}')\n",
    "        \n",
    "        rmse = m1.compute(predictions=preds, references=labels, squared=False)\n",
    "        avg = total_loss / len(dataloader.dataset)\n",
    "\n",
    "        print('='*64)\n",
    "        print(f\"TRAIN - EPOCH {e} | LOSS: {avg:.4f} RMSE: {rmse}\")\n",
    "        print('='*64)"
   ]
  },
  {
   "cell_type": "code",
   "execution_count": 23,
   "metadata": {},
   "outputs": [],
   "source": [
    "from torch.optim import AdamW\n",
    "\n",
    "# model = AutoModelForSequenceClassification.from_pretrained(MODEL_NAME, num_labels=2)\n",
    "optimizer = AdamW(model.parameters(), lr=5e-5)"
   ]
  },
  {
   "cell_type": "code",
   "execution_count": 52,
   "metadata": {},
   "outputs": [
    {
     "data": {
      "application/vnd.jupyter.widget-view+json": {
       "model_id": "7ab2ad570f414940952959b1fc27707e",
       "version_major": 2,
       "version_minor": 0
      },
      "text/plain": [
       "TRAIN - EPOCH 1 |:   0%|          | 0/32 [00:00<?, ?it/s]"
      ]
     },
     "metadata": {},
     "output_type": "display_data"
    },
    {
     "name": "stdout",
     "output_type": "stream",
     "text": [
      "================================================================\n",
      "TRAIN - EPOCH 1 | LOSS: 0.0322 RMSE: {'mse': 0.996620854595321}\n",
      "================================================================\n"
     ]
    },
    {
     "data": {
      "application/vnd.jupyter.widget-view+json": {
       "model_id": "cbd097edcec549b2a5f2bca723fedb62",
       "version_major": 2,
       "version_minor": 0
      },
      "text/plain": [
       "TRAIN - EPOCH 2 |:   0%|          | 0/32 [00:00<?, ?it/s]"
      ]
     },
     "metadata": {},
     "output_type": "display_data"
    },
    {
     "name": "stdout",
     "output_type": "stream",
     "text": [
      "================================================================\n",
      "TRAIN - EPOCH 2 | LOSS: 0.0292 RMSE: {'mse': 0.9494141741943081}\n",
      "================================================================\n"
     ]
    },
    {
     "data": {
      "application/vnd.jupyter.widget-view+json": {
       "model_id": "414918278c7a437d8029fbd86783a259",
       "version_major": 2,
       "version_minor": 0
      },
      "text/plain": [
       "TRAIN - EPOCH 3 |:   0%|          | 0/32 [00:00<?, ?it/s]"
      ]
     },
     "metadata": {},
     "output_type": "display_data"
    },
    {
     "name": "stdout",
     "output_type": "stream",
     "text": [
      "================================================================\n",
      "TRAIN - EPOCH 3 | LOSS: 0.0251 RMSE: {'mse': 0.8896607963716799}\n",
      "================================================================\n"
     ]
    },
    {
     "data": {
      "application/vnd.jupyter.widget-view+json": {
       "model_id": "db0615b253ad407ab1edfd210c0468c2",
       "version_major": 2,
       "version_minor": 0
      },
      "text/plain": [
       "TRAIN - EPOCH 4 |:   0%|          | 0/32 [00:00<?, ?it/s]"
      ]
     },
     "metadata": {},
     "output_type": "display_data"
    },
    {
     "name": "stdout",
     "output_type": "stream",
     "text": [
      "================================================================\n",
      "TRAIN - EPOCH 4 | LOSS: 0.0174 RMSE: {'mse': 0.7434175833629258}\n",
      "================================================================\n"
     ]
    },
    {
     "data": {
      "application/vnd.jupyter.widget-view+json": {
       "model_id": "b8010579001842aba46956bfb55cc46e",
       "version_major": 2,
       "version_minor": 0
      },
      "text/plain": [
       "TRAIN - EPOCH 5 |:   0%|          | 0/32 [00:00<?, ?it/s]"
      ]
     },
     "metadata": {},
     "output_type": "display_data"
    },
    {
     "name": "stdout",
     "output_type": "stream",
     "text": [
      "================================================================\n",
      "TRAIN - EPOCH 5 | LOSS: 0.0127 RMSE: {'mse': 0.6357503323154271}\n",
      "================================================================\n"
     ]
    }
   ],
   "source": [
    "train(5, model, train_loader, optimizer, device)\n"
   ]
  },
  {
   "cell_type": "code",
   "execution_count": 53,
   "metadata": {},
   "outputs": [],
   "source": [
    "from tqdm.notebook import tqdm\n",
    "from datasets import load_metric\n",
    "\n",
    "def evaluate(model, dataloader, device):\n",
    "    model.to(device)\n",
    "\n",
    "    m1 = load_metric('mse')\n",
    "\n",
    "    total_loss = 0.\n",
    "    preds = []\n",
    "    labels = []\n",
    "    progress_bar = tqdm(dataloader, desc=f'EVAL |')\n",
    "    for data in progress_bar:\n",
    "        data = {k:v.to(device) for k, v in data.items()}\n",
    "        with torch.no_grad():\n",
    "            output = model(**data)\n",
    "        \n",
    "        current_loss = output.loss\n",
    "        total_loss += current_loss.item()  # .item()을 사용하여 스칼라 값을 얻음\n",
    "        \n",
    "        preds += list(output.logits.squeeze().detach().cpu().numpy())\n",
    "        labels += list(data['labels'].detach().cpu().numpy())\n",
    "\n",
    "        progress_bar.set_description(f'EVAL | current-loss: {current_loss:.4f}')\n",
    "    \n",
    "    rmse = m1.compute(predictions=preds, references=labels, squared=False)\n",
    "    avg = total_loss / len(dataloader.dataset)\n",
    "\n",
    "    print('='*64)\n",
    "    print(f\"EVAL | LOSS: {avg:.4f} RMSE: {rmse}\")\n",
    "    print('='*64)"
   ]
  },
  {
   "cell_type": "code",
   "execution_count": 54,
   "metadata": {},
   "outputs": [
    {
     "data": {
      "application/vnd.jupyter.widget-view+json": {
       "model_id": "2f6de065e39b473c9468721b664aeeef",
       "version_major": 2,
       "version_minor": 0
      },
      "text/plain": [
       "EVAL |:   0%|          | 0/32 [00:00<?, ?it/s]"
      ]
     },
     "metadata": {},
     "output_type": "display_data"
    },
    {
     "name": "stdout",
     "output_type": "stream",
     "text": [
      "================================================================\n",
      "EVAL | LOSS: 0.0322 RMSE: {'mse': 1.0024117614225598}\n",
      "================================================================\n"
     ]
    }
   ],
   "source": [
    "evaluate(model, test_loader, device)\n"
   ]
  }
 ],
 "metadata": {
  "kernelspec": {
   "display_name": "yys",
   "language": "python",
   "name": "python3"
  },
  "language_info": {
   "codemirror_mode": {
    "name": "ipython",
    "version": 3
   },
   "file_extension": ".py",
   "mimetype": "text/x-python",
   "name": "python",
   "nbconvert_exporter": "python",
   "pygments_lexer": "ipython3",
   "version": "3.9.18 (main, Sep 11 2023, 13:41:44) \n[GCC 11.2.0]"
  },
  "orig_nbformat": 4,
  "vscode": {
   "interpreter": {
    "hash": "b414fc1e9b01ec0e3104513ada18687df2a6952cdc4efdeda01cb7a7dbe427c8"
   }
  }
 },
 "nbformat": 4,
 "nbformat_minor": 2
}
