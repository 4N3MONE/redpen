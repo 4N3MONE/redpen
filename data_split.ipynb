{
 "cells": [
  {
   "cell_type": "code",
   "execution_count": 8,
   "metadata": {},
   "outputs": [],
   "source": [
    "import json\n",
    "import numpy as np \n",
    "import pandas as pd\n",
    "import matplotlib as plt \n",
    "import seaborn as sns \n",
    "import sklearn\n",
    "with open(\"/home/work/deeptext/yys/redpen/data/data_final_g3.json\", \"r\") as f:\n",
    "\n",
    "    data = json.load(f)"
   ]
  },
  {
   "cell_type": "code",
   "execution_count": 9,
   "metadata": {},
   "outputs": [
    {
     "data": {
      "text/plain": [
       "{'idx': 0,\n",
       " 'question': 'Please answer this question: Which American state is nicknamed the Treasure state?',\n",
       " 'q_len': 14,\n",
       " 'gpt-4': {'response': 'To answer this question, I will look up information about American state nicknames.  Step 1: Search for the list of American state nicknames.  After searching for the list of American state nicknames, I find that the state with the nickname \"The Treasure State\" is Montana.  Montana earned this nickname due to its rich mineral reserves, particularly gold and silver, which were discovered during the 19th century. Additionally, the state has abundant natural resources and a stunning landscape that adds to its treasure-like qualities.  So, the American state nicknamed the Treasure State is Montana.',\n",
       "  'grammar': [5.0, 5.0, 5.0, 5.0, 5.0],\n",
       "  'completeness': [5.0, 5.0, 5.0, 5.0, 5.0, 5.0, 5.0, 5.0, 5.0, 5.0],\n",
       "  'readability': [4.0, 3.5, 3.0, 4.0, 3.5, 3.0, 4.0, 4.0, 5.0, 5.0],\n",
       "  'grammar_avg': 5.0,\n",
       "  'completeness_avg': 5.0,\n",
       "  'readability_avg': 3.9},\n",
       " 'gpt-3.5': {'response': 'The American state that is nicknamed the Treasure State is Montana.',\n",
       "  'grammar': [5.0, 5.0, 5.0, 5.0, 5.0],\n",
       "  'completeness': [5.0, 5.0, 5.0, 5.0, 5.0],\n",
       "  'readability': [4.0, 4.0, 4.5, 4.0],\n",
       "  'grammar_avg': 5.0,\n",
       "  'completeness_avg': 5.0,\n",
       "  'readability_avg': 4.125},\n",
       " 'llama2': {'response': 'I will give you a hint, it starts with an M.',\n",
       "  'grammar': [5.0, 5.0, 4.0, 5.0, 5.0],\n",
       "  'completeness': [1.0, 1.0, 1.0, 1.0, 1.0],\n",
       "  'readability': [2.0, 4.0, 3.0, 4.0, 3.0],\n",
       "  'grammar_avg': 4.8,\n",
       "  'completeness_avg': 1.0,\n",
       "  'readability_avg': 3.2},\n",
       " 'dolly_v2': {'response': '  A. Alaska B. Texas C. California D. New Jersey   Answers with respect to Nickname - The Treasure State:  A. Alaska - This is actually a nickname for more than one state, but most commonly it refers to Alaska which is in the North East corner of the United States of America.  B. Texas - This nickname comes from the abundance of oil that many early settlers came from the British Isles and were familiar with the term \"TREasure Island\".  The oil discovery in 1901 by Spindletop was such a surprise to the world that people started calling the area the \"Oil Patch\" hence the name Texas. C. California - This nickname comes from the Gold Rush era when so many people flocked to the state looking for gold that they didn\\'t have the resources to provide food or shelter for all of them.  So the government built prisons called \"Gold Rush Schools\", \"Gold Rush Banks\", etc., and the nickname stuck. D. New Jersey - This nickname comes from the shipbuilding industry in the state during the 1800\\'s.  Many large ships were built here including the USS Constitution (the',\n",
       "  'grammar': [3.5, 4.0, 3.5, 4.0, 5.0],\n",
       "  'completeness': [1.0, 1.0, 4.0, 3.0, 1.0],\n",
       "  'readability': [3.0, 3.0, 2.0, 2.0, 3.0],\n",
       "  'grammar_avg': 4.0,\n",
       "  'completeness_avg': 2.0,\n",
       "  'readability_avg': 2.6}}"
      ]
     },
     "execution_count": 9,
     "metadata": {},
     "output_type": "execute_result"
    }
   ],
   "source": [
    "data[0]"
   ]
  },
  {
   "cell_type": "code",
   "execution_count": 10,
   "metadata": {},
   "outputs": [],
   "source": [
    "data_r, data_c, data_g = [],[],[]\n",
    "models = ['gpt-4','gpt-3.5','llama2','dolly_v2']\n",
    "for datum in data:\n",
    "    q = datum['question']\n",
    "    for model in models:\n",
    "        r = datum[model]['response']\n",
    "        r_score = round(datum[model]['readability_avg'],2)\n",
    "        c_score = round(datum[model]['completeness_avg'],2)\n",
    "        g_score = round(datum[model]['grammar_avg'],2)\n",
    "        data_r.append({'question':q,'response':r,'text':q+' [SEP] '+r,'readability':r_score})\n",
    "        data_c.append({'question':q,'response':r,'text':q+' [SEP] '+r,'completeness':c_score})\n",
    "        data_g.append({'question':q,'response':r,'text':q+' [SEP] '+r,'grammar':g_score})"
   ]
  },
  {
   "cell_type": "code",
   "execution_count": 11,
   "metadata": {},
   "outputs": [],
   "source": [
    "from sklearn.model_selection import train_test_split\n"
   ]
  },
  {
   "cell_type": "code",
   "execution_count": 12,
   "metadata": {},
   "outputs": [],
   "source": [
    "r_train,r_test=train_test_split(data_r,test_size=0.1, shuffle=True,random_state=42)\n",
    "c_train,c_test=train_test_split(data_c,test_size=0.1, shuffle=True,random_state=42)\n",
    "g_train,g_test=train_test_split(data_g,test_size=0.1, shuffle=True,random_state=42)"
   ]
  },
  {
   "cell_type": "code",
   "execution_count": 13,
   "metadata": {},
   "outputs": [
    {
     "data": {
      "text/plain": [
       "2727"
      ]
     },
     "execution_count": 13,
     "metadata": {},
     "output_type": "execute_result"
    }
   ],
   "source": [
    "len(r_test)"
   ]
  },
  {
   "cell_type": "code",
   "execution_count": 14,
   "metadata": {},
   "outputs": [],
   "source": [
    "with open('./data/train/readability_train.json', 'w') as f:\n",
    "    json.dump(r_train, f, indent=4)\n",
    "with open('./data/train/completeness_train.json', 'w') as f:\n",
    "    json.dump(c_train, f, indent=4)\n",
    "with open('./data/train/grmammar_train.json', 'w') as f:\n",
    "    json.dump(g_train, f, indent=4)\n",
    "with open('./data/test/readability_test.json', 'w') as f:\n",
    "    json.dump(r_test, f, indent=4)\n",
    "with open('./data/test/completeness_test.json', 'w') as f:\n",
    "    json.dump(c_test, f, indent=4)\n",
    "with open('./data/test/grammar_test.json', 'w') as f:\n",
    "    json.dump(g_test, f, indent=4)"
   ]
  }
 ],
 "metadata": {
  "kernelspec": {
   "display_name": "yys",
   "language": "python",
   "name": "python3"
  },
  "language_info": {
   "codemirror_mode": {
    "name": "ipython",
    "version": 3
   },
   "file_extension": ".py",
   "mimetype": "text/x-python",
   "name": "python",
   "nbconvert_exporter": "python",
   "pygments_lexer": "ipython3",
   "version": "3.9.18 (main, Sep 11 2023, 13:41:44) \n[GCC 11.2.0]"
  },
  "orig_nbformat": 4,
  "vscode": {
   "interpreter": {
    "hash": "b414fc1e9b01ec0e3104513ada18687df2a6952cdc4efdeda01cb7a7dbe427c8"
   }
  }
 },
 "nbformat": 4,
 "nbformat_minor": 2
}
