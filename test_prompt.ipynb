{
 "cells": [
  {
   "cell_type": "code",
   "execution_count": null,
   "metadata": {},
   "outputs": [],
   "source": [
    "'Q : A : readability of this answer is <MASK>'\n",
    "'Question: Answer: readability of this answer is <MASK>'"
   ]
  },
  {
   "cell_type": "code",
   "execution_count": null,
   "metadata": {},
   "outputs": [],
   "source": [
    "import numpy as np # linear algebra\n",
    "import pandas as pd # data processing, CSV file I/O (e.g. pd.read_csv)\n",
    "import warnings\n",
    "import logging\n",
    "import os\n",
    "import shutil\n",
    "import json\n",
    "import transformers\n",
    "from transformers import AutoModel, AutoTokenizer, AutoConfig, AutoModelForSequenceClassification\n",
    "from transformers import DataCollatorWithPadding\n",
    "from datasets import Dataset,load_dataset, load_from_disk\n",
    "from datasets import load_metric, disable_progress_bar\n",
    "from sklearn.metrics import mean_squared_error\n",
    "from datasets import load_dataset\n",
    "import torch\n",
    "from torch.utils.data import Dataset,DataLoader\n",
    "from torch.optim import AdamW\n",
    "import argparse\n",
    "import os\n",
    "import time\n",
    "os.environ['CUDA_LAUNCH_BLOCKING'] = \"1\"\n",
    "\n",
    "argparser = argparse.ArgumentParser()\n",
    "argparser.add_argument('--model_name', type=str, default='microsoft/deberta-v3-base')\n",
    "argparser.add_argument('--ability', type=str, default='readability')\n",
    "argparser.add_argument('--epoch', type=int, default=50)\n",
    "argparser.add_argument('--lr', type=float, default=5e-5)\n",
    "argparser.add_argument('--batch_size', type=int, default=32)\n",
    "#argparser.add_argument('--max_len', type = int, default=256)\n",
    "args = argparser.parse_args()\n"
   ]
  },
  {
   "cell_type": "code",
   "execution_count": null,
   "metadata": {},
   "outputs": [],
   "source": []
  }
 ],
 "metadata": {
  "kernelspec": {
   "display_name": "base",
   "language": "python",
   "name": "python3"
  },
  "language_info": {
   "name": "python",
   "version": "3.10.12 (main, Jul  5 2023, 18:54:27) [GCC 11.2.0]"
  },
  "orig_nbformat": 4,
  "vscode": {
   "interpreter": {
    "hash": "ec8e99decc2081de849a29470fa13db5bdc133f36de876237d16680bb689c064"
   }
  }
 },
 "nbformat": 4,
 "nbformat_minor": 2
}
